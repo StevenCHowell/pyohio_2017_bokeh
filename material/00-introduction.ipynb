{
 "cells": [
  {
   "cell_type": "markdown",
   "metadata": {},
   "source": [
    "[![Binder](https://mybinder.org/badge.svg)](https://hub.mybinder.org/user/stevenchowell-pyohio_2017_bokeh-65t5wwrp/notebooks/material/00-introduction.ipynb)\n",
    "# Bokeh: Interactive Data Visualization in Python\n",
    "Steven C. Howell <br />\n",
    "[@StevenCHowell](https://twitter.com/StevenCHowell) <br />\n",
    "repo: https://github.com/StevenCHowell/pyohio_2017_bokeh  \n",
    "nbviewer: https://nbviewer.jupyter.org/github/StevenCHowell/pyohio_2017_bokeh/blob/master/material/00-introduction.ipynb"
   ]
  },
  {
   "cell_type": "markdown",
   "metadata": {},
   "source": [
    "---\n",
    "## PyOhio 2018\n",
    "### The FREE Annual Python Conference in Ohio\n",
    "PyOhio 2018 is **July 28-29, 2018**  \n",
    "at The Ohio Union in **Columbus, OH**  \n",
    "Come be a part of the 11th Annual PyOhio!   \n",
    "https://www.pyohio.org/2018/\n",
    "[<img src=\"https://pbs.twimg.com/profile_images/988625840211611648/F3yn6kb9_400x400.jpg\" alt=\"Drawing\" style=\"width: 100px;\"/>](https://www.pyohio.org/2018/)\n",
    "\n",
    "---"
   ]
  },
  {
   "cell_type": "markdown",
   "metadata": {},
   "source": [
    "\"A picture is worth a thousand words.\" Data visualization is key to understanding the information contained in data. Interactive visualizations provide a valuable means for students, data journalist, engineers, and scientist to explore their data. Bokeh provides a Python API for creating elegant plots, dashboards, and data applications in the style of D3.js, without having to write any JavaScript.\n",
    "\n",
    "This tutorial will introduce students to the basics of using Bokeh, demonstrate different aspects of the library, and teach students how to get the answers to questions that arise as they apply what they have learned to their own data. We will cover the following four examples:\n",
    "\n",
    "- using Bokeh to create simple interactive plots, both from a script (01-plotting.py) and [from a Jupyter notebook (01-plotting.ipynb)](01-plotting.ipynb)\n",
    "- steaming data to a Bokeh plot, [02-streaming.ipynb](02-streaming.ipynb)\n",
    "- partnering Bokeh with Datashader to interactively view large datasets, [03-datashader.ipynb](03-datashader.ipynb) \n",
    "- using Bokeh server to link interactive visualizations to a running python instance, [04-server.ipynb](04-server.ipynb)\n",
    "\n",
    "For each of these topics, your will have an exercise to apply what you have learned and further explore the Bokeh API.\n",
    "\n"
   ]
  },
  {
   "cell_type": "markdown",
   "metadata": {},
   "source": [
    "## Setup\n",
    "### Step 1: Clone the [pyohio_2017_bokeh](https://github.com/StevenCHowell/pyohio_2017_bokeh) repository\n",
    "\n",
    "- You can should be able to use any Linux, Mac OS X, or Windows computer with a web browser for this tutorial.  I recommend using Chrome, but the code should also work in Firefox and Safari.\n",
    "- Clone this repository, e.g. using `git clone https://github.com/StevenCHowell/pyohio_2017_bokeh`.\n",
    "- Open a terminal window inside the repository.\n",
    "\n",
    "Please *do a `git pull`* on this cloned repository either *in the evening of Friday July 28 or in the morning of Saturday July 29*.\n",
    "\n",
    "### Step 2: Create a conda environment from `environment.yml`\n",
    "\n",
    "The easiest way to get an environment set up for the tutorial is installing it using the `environment.yml` provided. If you do not already have it, [obtain `conda`](https://conda.io/docs/install/quick.html) (included with [Anaconda](https://www.continuum.io/downloads) and [Miniconda](https://conda.io/miniconda.html)), and then create the `bk_tutorial` environment by executing:\n",
    "```\n",
    "conda env create -f environment.yml\n",
    "```\n",
    "\n",
    "When installation is complete you may activate the environment by running the command:\n",
    "```\n",
    "activate bk_tutorial\n",
    "```\n",
    "(for Windows) or:\n",
    "```\n",
    "$ source activate bk_tutorial\n",
    "```\n",
    "(for Linux and Mac)."
   ]
  },
  {
   "cell_type": "markdown",
   "metadata": {},
   "source": [
    "# Setup Test"
   ]
  },
  {
   "cell_type": "markdown",
   "metadata": {},
   "source": [
    "To test your setup, run the following cell. You should see output that looks something like this:\n",
    "\n",
    "    IPython - 6.1.0\n",
    "    Pandas - 0.20.3\n",
    "    Bokeh - 0.12.6"
   ]
  },
  {
   "cell_type": "code",
   "execution_count": null,
   "metadata": {
    "collapsed": true
   },
   "outputs": [],
   "source": [
    "from IPython import __version__ as ipython_version\n",
    "from pandas import __version__ as pandas_version\n",
    "from bokeh import __version__ as bokeh_version\n",
    "print(\"IPython - %s\" % ipython_version)\n",
    "print(\"Pandas - %s\" % pandas_version)\n",
    "print(\"Bokeh - %s\" % bokeh_version)"
   ]
  },
  {
   "cell_type": "markdown",
   "metadata": {},
   "source": [
    "Additionally, execute the following 2 cells.  The text after the first cell should change from \"BokehJS loading...\" to \"BokehJS 0.12.6 successfully loaded.\"  Additionally, the Bokeh logo will be shown.  After the second cell the HoloViews logo and a smaller Bokeh logo will be shown."
   ]
  },
  {
   "cell_type": "code",
   "execution_count": null,
   "metadata": {
    "collapsed": true
   },
   "outputs": [],
   "source": [
    "import bokeh.plotting\n",
    "\n",
    "bokeh.plotting.output_notebook()"
   ]
  },
  {
   "cell_type": "code",
   "execution_count": null,
   "metadata": {
    "collapsed": true
   },
   "outputs": [],
   "source": [
    "import holoviews as hv\n",
    "import datashader as ds\n",
    "hv.notebook_extension('bokeh')"
   ]
  },
  {
   "cell_type": "markdown",
   "metadata": {},
   "source": [
    "## Tutorial Overview\n",
    "\n",
    "The tutorial is broken into several sections, which are each presented in their own notebook/script:\n",
    "\n",
    "0. 10 min - [Setup & Introduction](#About-Me)\n",
    "\n",
    "1. 30 min - [Basic Plotting Interface](01-plotting.ipynb) \n",
    "\n",
    "2. 20 min - [Streaming Data](02-streaming.ipynb)\n",
    "\n",
    "3. 20 min - [Datashader](03-datashader.ipynb) \n",
    "\n",
    "4. 20 min - [Bokeh Server](04-server.py) \n",
    "\n",
    "5. 10 min - cushion "
   ]
  },
  {
   "cell_type": "markdown",
   "metadata": {},
   "source": [
    "## About Me\n",
    "Steven C. Howell <br />\n",
    "[@StevenCHowell](https://twitter.com/StevenCHowell) <br />\n",
    "[https://github.com/StevenCHowell/pyohio_2017_bokeh](https://github.com/StevenCHowell/pyohio_2017_bokeh)\n",
    "\n",
    "- Versatile data driven problem solver\n",
    "- Builds, adapts, and implement novel tools and strategies to overcome obstacles\n",
    "- Research Physicist at National Institute of Standards and Technology (for 2 more weeks)\n",
    "- Data Science Test Engineer at Booz Allen Hamilton (in 2 weeks)\n",
    "- Physics PhD from The George Washington University (Biomolecular Structure)\n",
    "- Proud father of three!"
   ]
  },
  {
   "cell_type": "code",
   "execution_count": 1,
   "metadata": {},
   "outputs": [
    {
     "data": {
      "text/html": [
       "<table><tr><td><img src='assets/dada.jpg'></td><td><img src='assets/cutie.jpg'></td></tr></table>"
      ],
      "text/plain": [
       "<IPython.core.display.HTML object>"
      ]
     },
     "metadata": {},
     "output_type": "display_data"
    }
   ],
   "source": [
    "from IPython.display import HTML, display\n",
    "display(HTML(\"<table><tr><td><img src='assets/dada.jpg'></td><td><img src='assets/cutie.jpg'></td></tr></table>\"))"
   ]
  },
  {
   "cell_type": "markdown",
   "metadata": {},
   "source": [
    "## About Bokeh\n",
    "\n",
    "Bokeh is a Data Visualization library for\n",
    "\n",
    "* interactive visualization in modern browsers\n",
    "* standalone HTML documents, or server-backed apps\n",
    "* capable of expressive and verstatile graphics\n",
    "* can handle large, dynamic or streaming data\n",
    "* available from Python (or Scala, or R, or ... contributions welcome)\n",
    "\n",
    "And most importantly:\n",
    "\n",
    "## <center>NO JAVASCRIPT REQUIRED </center>"
   ]
  },
  {
   "cell_type": "markdown",
   "metadata": {},
   "source": [
    "### How Bokeh works?\n",
    "<img src=\"assets/arch.png\" style=\"width:800px\">"
   ]
  },
  {
   "cell_type": "markdown",
   "metadata": {},
   "source": [
    "### 3 API Levels \n",
    "1. `bokeh.models` ([docs](http://bokeh.pydata.org/en/latest/docs/reference/models.html), [tutorial notebook](https://github.com/bokeh/bokeh-notebooks/blob/master/tutorial/09%20-%20models.ipynb))\n",
    "2. `bokeh.plotting`\n",
    "3. ~~`bokeh.charts`~~ > HoloViews (as of April/May 2017)"
   ]
  },
  {
   "cell_type": "markdown",
   "metadata": {
    "collapsed": true
   },
   "source": [
    "\n",
    "## Additional Resources\n",
    "### Documentation\n",
    "  - [Bokeh Documentation](http://bokeh.pydata.org/en/latest/)\n",
    "  - [HoloViews Documentation](http://holoviews.org/)\n",
    "\n",
    "### Tutorials\n",
    "  - Official Bokeh Tutorial: [interactive](https://mybinder.org/v2/gh/bokeh/bokeh-notebooks/master?filepath=tutorial%2F00%20-%20Introduction%20and%20Setup.ipynb), [nbviewer](http://nbviewer.jupyter.org/github/bokeh/bokeh-notebooks/blob/master/tutorial/00%20-%20intro.ipynb)\n",
    "  - PyViz (Bokeh, Holoviews, Datashader, Geoviews, etc): [interactive](https://mybinder.org/v2/gh/pyviz/pyviz/master?urlpath=notebooks%2F00_Welcome.ipynb), [nbviewer](https://nbviewer.jupyter.org/github/pyviz/pyviz/blob/master/notebooks/00_Welcome.ipynb), [web](http://pyviz.org/tutorial/00_Welcome.html)\n",
    "  - SciPy 2017 - Interactive Data Visualization with HoloViews & Bokeh: [interactive](https://mybinder.org/v2/gh/ioam/scipy-2017-holoviews-tutorial/master), [nbviewer](https://nbviewer.jupyter.org/github/ioam/scipy-2017-holoviews-tutorial/blob/master/notebooks/00-welcome.ipynb)\n",
    "  \n",
    "### Questions\n",
    "  - [Stack Overflow](https://stackoverflow.com) Tags\n",
    "    - [bokeh](https://stackoverflow.com/questions/tagged/bokeh)\n",
    "    - [datashader](https://stackoverflow.com/questions/tagged/datashader)\n",
    "    - [holoviews](https://stackoverflow.com/questions/tagged/holoviews)\n",
    "  - [Gitter](https://gitter.im)\n",
    "      - [bokeh](https://gitter.im/bokeh/bokeh)\n",
    "      - [holoviews](https://gitter.im/ioam/holoviews)      \n",
    "  - Mailing Lists\n",
    "    - [bokeh google group](https://groups.google.com/a/continuum.io/forum/#!forum/bokeh)\n",
    "\n",
    "### Get Involved - *Contributions Welcome!*\n",
    "  - [Bokeh repo](https://github.com/bokeh/bokeh)\n",
    "  - [Datashader repo](https://github.com/bokeh/datashader)\n",
    "  - [HoloViews repo](https://github.com/ioam/holoviews)"
   ]
  },
  {
   "cell_type": "markdown",
   "metadata": {
    "collapsed": true
   },
   "source": [
    "---\n",
    "Proceed to [01-plotting.ipynb](01-plotting.ipynb)\n",
    "\n",
    "---\n",
    "## Index\n",
    "1. [Basic Plotting](01-plotting.ipynb)\n",
    "2. [Streaming Data](02-streaming.ipynb)\n",
    "3. [Datashader](03-datashader.ipynb) \n",
    "4. [Bokeh Server](04-server.ipynb)\n"
   ]
  }
 ],
 "metadata": {
  "kernelspec": {
   "display_name": "Python [default]",
   "language": "python",
   "name": "python3"
  },
  "language_info": {
   "codemirror_mode": {
    "name": "ipython",
    "version": 3
   },
   "file_extension": ".py",
   "mimetype": "text/x-python",
   "name": "python",
   "nbconvert_exporter": "python",
   "pygments_lexer": "ipython3",
   "version": "3.5.4"
  }
 },
 "nbformat": 4,
 "nbformat_minor": 2
}
