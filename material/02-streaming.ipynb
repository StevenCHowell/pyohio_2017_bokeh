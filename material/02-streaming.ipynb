{
 "cells": [
  {
   "cell_type": "markdown",
   "metadata": {},
   "source": [
    "Return to [00-introduction.ipynb](00-introduction.ipynb)  \n",
    "\n",
    "---"
   ]
  },
  {
   "cell_type": "code",
   "execution_count": null,
   "metadata": {
    "collapsed": true
   },
   "outputs": [],
   "source": [
    "import numpy as np"
   ]
  },
  {
   "cell_type": "code",
   "execution_count": null,
   "metadata": {
    "collapsed": true
   },
   "outputs": [],
   "source": [
    "import bokeh.models.sources \n",
    "import bokeh.plotting \n",
    "import bokeh.io\n",
    "from bokeh.palettes import Category10_10 as palette"
   ]
  },
  {
   "cell_type": "code",
   "execution_count": null,
   "metadata": {
    "collapsed": true
   },
   "outputs": [],
   "source": [
    "bokeh.io.output_notebook()"
   ]
  },
  {
   "cell_type": "code",
   "execution_count": null,
   "metadata": {
    "collapsed": true
   },
   "outputs": [],
   "source": [
    "# # uncomment and run this cell if not connected to the internet\n",
    "# import bokeh.resources\n",
    "# bokeh.plotting.output_notebook(resources=bokeh.resources.INLINE)"
   ]
  },
  {
   "cell_type": "markdown",
   "metadata": {},
   "source": [
    "# Simulated Streaming Example"
   ]
  },
  {
   "cell_type": "code",
   "execution_count": null,
   "metadata": {
    "collapsed": true
   },
   "outputs": [],
   "source": [
    "mu_x1, mu_y1 = np.random.randint(-40, 40, 2)\n",
    "sigma_x1, sigma_y1 = np.random.randint(1, 25, 2)\n",
    "\n",
    "\n",
    "my_fig = bokeh.plotting.figure(\n",
    "    plot_width=400, \n",
    "    plot_height=400,\n",
    "    x_axis_label='x',\n",
    "    y_axis_label='y',\n",
    "    x_range=(-100, 100),\n",
    "    y_range=(-100, 100),\n",
    ")\n",
    "\n",
    "data1 = bokeh.models.sources.ColumnDataSource(data=dict(x=[], y=[]))\n",
    "\n",
    "circle1 = my_fig.circle(\n",
    "    \"x\", \"y\", \n",
    "    source=data1,\n",
    "    color=palette[0],\n",
    "    alpha=0.2,\n",
    ")\n",
    "\n",
    "handle = bokeh.io.show(my_fig, notebook_handle=True)\n",
    "\n",
    "new_data1=dict(x=[], y=[])\n",
    "\n",
    "step = 0\n",
    "max_step = 1000  # arbitrary stop point for example\n",
    "\n",
    "while step < max_step:\n",
    "    new_data1['x'] = [np.random.normal(loc=mu_x1, scale=sigma_x1)]\n",
    "    new_data1['y'] = [np.random.normal(loc=mu_y1, scale=sigma_y1)]\n",
    "    \n",
    "    data1.stream(new_data1)\n",
    "    \n",
    "    bokeh.io.push_notebook(handle=handle)\n",
    "    step += 1"
   ]
  },
  {
   "cell_type": "markdown",
   "metadata": {},
   "source": [
    "## Test yourself:"
   ]
  },
  {
   "cell_type": "markdown",
   "metadata": {},
   "source": [
    "### Can you guess what the mean and standard deviation values are for each direction, x, and y?\n",
    "\n",
    "Double click on this cell to insert your answers\n",
    "\n",
    "- $\\mu_x$: [your answer here] \n",
    "- $\\sigma_x$: [your answer here] \n",
    "- $\\mu_y$: [your answer here] \n",
    "- $\\sigma_y$: [your answer here] "
   ]
  },
  {
   "cell_type": "markdown",
   "metadata": {},
   "source": [
    "Run the following cell to see how close you are."
   ]
  },
  {
   "cell_type": "code",
   "execution_count": null,
   "metadata": {
    "collapsed": true
   },
   "outputs": [],
   "source": [
    "print('mu x1: {}\\t sigma x1: {}'.format(mu_x1, sigma_x1))\n",
    "print('mu y1: {}\\t sigma y1: {}'.format(mu_y1, sigma_y1))"
   ]
  },
  {
   "cell_type": "markdown",
   "metadata": {},
   "source": [
    "# Exercise\n",
    "Copy the above code, then make it so that on each update, a point for a second Normal Gaussian Distribution gets added to the plot.  I recommend using a different color for the second distribution."
   ]
  },
  {
   "cell_type": "code",
   "execution_count": null,
   "metadata": {
    "collapsed": true
   },
   "outputs": [],
   "source": [
    "# [Enter your code here]"
   ]
  },
  {
   "cell_type": "markdown",
   "metadata": {},
   "source": [
    "Run the following cell to see one possible solution."
   ]
  },
  {
   "cell_type": "code",
   "execution_count": null,
   "metadata": {
    "collapsed": true
   },
   "outputs": [],
   "source": [
    "%load solutions/02_exercise.py"
   ]
  },
  {
   "cell_type": "markdown",
   "metadata": {},
   "source": [
    "## Test yourself:"
   ]
  },
  {
   "cell_type": "markdown",
   "metadata": {},
   "source": [
    "### Can you guess what the mean and standard deviation values are for each direction, x1, x2, y1, and y2?\n",
    "\n",
    "Double click on this cell to insert your answers\n",
    "\n",
    "- $\\mu_x1$: [your answer here] \n",
    "- $\\sigma_x1$: [your answer here] \n",
    "- $\\mu_y1$: [your answer here] \n",
    "- $\\sigma_y1$: [your answer here] \n",
    "- $\\mu_x2$: [your answer here] \n",
    "- $\\sigma_x2$: [your answer here] \n",
    "- $\\mu_y2$: [your answer here] \n",
    "- $\\sigma_y2$: [your answer here] "
   ]
  },
  {
   "cell_type": "markdown",
   "metadata": {},
   "source": [
    "Run the following cell to see how close you are."
   ]
  },
  {
   "cell_type": "code",
   "execution_count": null,
   "metadata": {
    "collapsed": true
   },
   "outputs": [],
   "source": [
    "print('mu x1: {}\\t sigma x1: {}'.format(mu_x1, sigma_x1))\n",
    "print('mu y1: {}\\t sigma y1: {}'.format(mu_y1, sigma_y1))\n",
    "print('mu x2: {}\\t sigma x2: {}'.format(mu_x2, sigma_x2))\n",
    "print('mu y2: {}\\t sigma y2: {}'.format(mu_y2, sigma_y2))"
   ]
  },
  {
   "cell_type": "markdown",
   "metadata": {
    "collapsed": true
   },
   "source": [
    "---\n",
    "Proceed to [03-streaming.ipynb](03-streaming.ipynb)  \n",
    "Return to [00-introduction.ipynb](00-introduction.ipynb)  \n",
    "\n",
    "\n",
    "---\n",
    "## Index\n",
    "1. [Basic Plotting](01-plotting.ipynb)\n",
    "2. [Streaming Data](02-streaming.ipynb)\n",
    "3. [Datashader](03-datashader.ipynb) \n",
    "4. [Bokeh Server](04-server.ipynb)"
   ]
  }
 ],
 "metadata": {
  "kernelspec": {
   "display_name": "Python [default]",
   "language": "python",
   "name": "python3"
  },
  "language_info": {
   "codemirror_mode": {
    "name": "ipython",
    "version": 3
   },
   "file_extension": ".py",
   "mimetype": "text/x-python",
   "name": "python",
   "nbconvert_exporter": "python",
   "pygments_lexer": "ipython3",
   "version": "3.5.4"
  }
 },
 "nbformat": 4,
 "nbformat_minor": 2
}
