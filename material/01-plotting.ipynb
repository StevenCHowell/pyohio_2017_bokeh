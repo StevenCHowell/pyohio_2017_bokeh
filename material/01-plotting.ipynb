{
 "cells": [
  {
   "cell_type": "markdown",
   "metadata": {},
   "source": [
    "Return to [00-introduction.ipynb](00-introduction.ipynb)  \n",
    "\n",
    "---"
   ]
  },
  {
   "cell_type": "markdown",
   "metadata": {},
   "source": [
    "# Imports\n",
    "\n",
    "When using the [`bokeh.plotting`](http://bokeh.pydata.org/en/latest/docs/user_guide/plotting.html) interface, here are a few of the most common ones we will use:\n",
    "* Use the [`figure`](http://bokeh.pydata.org/en/latest/docs/reference/plotting.html#bokeh.plotting.figure) function to  create new plot objects to work with. \n",
    "* Call the functions [`output_file`](http://bokeh.pydata.org/en/latest/docs/reference/resources_embedding.html#bokeh.io.output_file), [`output_notebook`](http://bokeh.pydata.org/en/latest/docs/reference/resources_embedding.html#bokeh.io.output_notebook), and [`output_server`](http://bokeh.pydata.org/en/latest/docs/reference/resources_embedding.html#bokeh.io.output_server) (possibly in combination) to tell Bokeh how to display or save output. \n",
    "* Execute [`show`](http://bokeh.pydata.org/en/latest/docs/reference/resources_embedding.html#bokeh.io.show) and  [`save`](http://bokeh.pydata.org/en/latest/docs/reference/resources_embedding.html#bokeh.io.save) to display or save plots and layouts."
   ]
  },
  {
   "cell_type": "code",
   "execution_count": null,
   "metadata": {
    "collapsed": true
   },
   "outputs": [],
   "source": [
    "import bokeh.plotting"
   ]
  },
  {
   "cell_type": "markdown",
   "metadata": {},
   "source": [
    "Load the bokeh JavaScript layer from the web."
   ]
  },
  {
   "cell_type": "code",
   "execution_count": null,
   "metadata": {
    "collapsed": true
   },
   "outputs": [],
   "source": [
    "bokeh.plotting.output_notebook()"
   ]
  },
  {
   "cell_type": "markdown",
   "metadata": {},
   "source": [
    "If not connected to the internet, you can get the JavaScript library inline by running\n",
    "\n",
    "```\n",
    "import bokeh.resources\n",
    "bokeh.plotting.output_notebook(resources=bokeh.resources.INLINE)\n",
    "```"
   ]
  },
  {
   "cell_type": "code",
   "execution_count": null,
   "metadata": {
    "collapsed": true
   },
   "outputs": [],
   "source": [
    "# # uncomment and run this cell if not connected to the internet\n",
    "# import bokeh.resources\n",
    "# bokeh.plotting.output_notebook(resources=bokeh.resources.INLINE)"
   ]
  },
  {
   "cell_type": "markdown",
   "metadata": {},
   "source": [
    "Bokeh incorporates many [palettes](http://bokeh.pydata.org/en/latest/docs/reference/palettes.html#bokeh-palettes) for presenting your data.  The following import method makes it easy to switch out which palette you are using."
   ]
  },
  {
   "cell_type": "code",
   "execution_count": null,
   "metadata": {
    "collapsed": true
   },
   "outputs": [],
   "source": [
    "from bokeh.palettes import Category10_10 as palette\n",
    "# # switching palettes is as easy as replacing which you import\n",
    "# from bokeh.palettes import Colorblind_7 as palette  "
   ]
  },
  {
   "cell_type": "markdown",
   "metadata": {},
   "source": [
    "Palettes are simply a list of color hex strings."
   ]
  },
  {
   "cell_type": "code",
   "execution_count": null,
   "metadata": {
    "collapsed": true
   },
   "outputs": [],
   "source": [
    "print(palette)"
   ]
  },
  {
   "cell_type": "markdown",
   "metadata": {},
   "source": [
    "You can also use many color names, e.g., `'blue'`, `'red'`, `'yellow'`, `'firebrick'`, etc.  Feel free to explore."
   ]
  },
  {
   "cell_type": "code",
   "execution_count": null,
   "metadata": {
    "collapsed": true
   },
   "outputs": [],
   "source": [
    "import numpy as np"
   ]
  },
  {
   "cell_type": "markdown",
   "metadata": {},
   "source": [
    "We will use SciPy to create some sample data."
   ]
  },
  {
   "cell_type": "code",
   "execution_count": null,
   "metadata": {
    "collapsed": true
   },
   "outputs": [],
   "source": [
    "import scipy.stats"
   ]
  },
  {
   "cell_type": "markdown",
   "metadata": {},
   "source": [
    "# Sample plot"
   ]
  },
  {
   "cell_type": "markdown",
   "metadata": {},
   "source": [
    "Bokeh expects data as either a **single value**, or a **series of values**, e.g., list, set, NumPy array, Pandas DataFrame column.  We will often use NumPy arrays.\n",
    "\n",
    "Lets create some sample data.  Throughout this tutorial, we will use the [normal (or Gaussian) distribution](https://en.wikipedia.org/wiki/Normal_distribution) for out sample data.  The Gaussian distribution is defined as"
   ]
  },
  {
   "cell_type": "markdown",
   "metadata": {},
   "source": [
    "$$f(x | \\mu, \\sigma^2) = \\frac{1}{\\sqrt{2\\pi\\sigma^2}} \\,\\exp\\left({-\\frac{(x-\\mu)^2}{2\\sigma^2}}\\right)$$"
   ]
  },
  {
   "cell_type": "markdown",
   "metadata": {},
   "source": [
    "where $\\mu$ is the mean value, and $\\sigma$ is the standard deviation.\n",
    "\n",
    "SciPy provides [`scipy.stats.norm`](https://docs.scipy.org/doc/scipy/reference/generated/scipy.stats.norm.html) which include many functions related to the Gaussian distribution.  Here is a simple wrapper of the probability density function (pdf)."
   ]
  },
  {
   "cell_type": "code",
   "execution_count": null,
   "metadata": {
    "collapsed": true
   },
   "outputs": [],
   "source": [
    "def gaussian(x_array, mu, sigma):\n",
    "    pdf = scipy.stats.norm.pdf(x_array, loc=mu, scale=sigma)\n",
    "    return pdf"
   ]
  },
  {
   "cell_type": "markdown",
   "metadata": {},
   "source": [
    "We will define 3 Gaussian distributions:\n",
    "1. $\\mu=10$, $\\sigma=4$\n",
    "2. $\\mu=15$, $\\sigma=1$\n",
    "3. $\\mu=8$, $\\sigma=2$"
   ]
  },
  {
   "cell_type": "code",
   "execution_count": null,
   "metadata": {
    "collapsed": true
   },
   "outputs": [],
   "source": [
    "x = np.linspace(0, 20, 100)\n",
    "y1 = gaussian(x, 10, 4)\n",
    "y2 = gaussian(x, 15, 1)\n",
    "y3 = gaussian(x, 8, 2)"
   ]
  },
  {
   "cell_type": "code",
   "execution_count": null,
   "metadata": {
    "collapsed": true
   },
   "outputs": [],
   "source": [
    "p = bokeh.plotting.figure()\n",
    "p.diamond(x, y1)\n",
    "bokeh.plotting.show(p)"
   ]
  },
  {
   "cell_type": "markdown",
   "metadata": {},
   "source": [
    "After just 3 lines of code, we have a reasonable plot of our data with several interactions availble by default.  ### Explore\n",
    "Go through each of the tools on the right side figuring out what each does.\n",
    "\n",
    "# Quiz\n",
    "1\\. What do each of the following do?\n",
    "\n",
    "￼￼  <img src=\"assets/Bokeh.png\" width=\"20\"/> \n",
    "  <img src=\"assets/Pan.png\" width=\"20\"/> \n",
    "  <img src=\"assets/BoxZoom.png\" width=\"20\"/> \n",
    "  <img src=\"assets/WheelZoom.png\" width=\"20\"/> \n",
    "  <img src=\"assets/Save.png\" width=\"20\"/> \n",
    "  <img src=\"assets/Reset.png\" width=\"20\"/> \n",
    "  <img src=\"assets/Help.png\" width=\"20\"/> \n",
    "\n",
    "2\\. Where do you go to learn about configuring plot tools?\n",
    "\n",
    "3\\. Name one additional tool that is not one of the default tools?"
   ]
  },
  {
   "cell_type": "markdown",
   "metadata": {},
   "source": [
    "In addition to `tools`, `figure()` and `diamond()` have several other `kwargs` you can use to adjust the plotting results.  Lets see some of these in use."
   ]
  },
  {
   "cell_type": "code",
   "execution_count": null,
   "metadata": {
    "collapsed": true
   },
   "outputs": [],
   "source": [
    "p = bokeh.plotting.figure(\n",
    "    title='Demo Plot',\n",
    "    x_axis_label='x',\n",
    "    y_axis_label='f(x)',\n",
    "    width=500, height=350,\n",
    "    x_range=(0, 20),\n",
    "    y_range=(-0.05, 0.12),\n",
    ")\n",
    "\n",
    "p.diamond(x, y1, \n",
    "          line_color=palette[0], \n",
    "          fill_color=palette[1],\n",
    "          line_alpha=y1/y1.max(), # oscillate from 0 to 1 (y min to max)\n",
    "          fill_alpha=(1-y1/y1.max()), # oscillate from 1 to 0 (y min to max)\n",
    "          legend='m=10, s=4', \n",
    "          size=x/1.5)\n",
    "\n",
    "bokeh.plotting.show(p)"
   ]
  },
  {
   "cell_type": "markdown",
   "metadata": {},
   "source": [
    "Note that you can use `color` to set both the `line_color` and `fill_color`.  Similarly, `alpha` sets both the `line_alpha` and `fill_alpha`."
   ]
  },
  {
   "cell_type": "code",
   "execution_count": null,
   "metadata": {
    "collapsed": true
   },
   "outputs": [],
   "source": [
    "p = bokeh.plotting.figure(\n",
    "    title='Demo Plot',\n",
    "    x_axis_label='x',\n",
    "    y_axis_label='f(x)',\n",
    "    width=500, height=350,\n",
    "    x_range=(0, 20),\n",
    "    y_range=(-0.05, 0.12),\n",
    ")\n",
    "\n",
    "p.diamond(\n",
    "    x, y1, \n",
    "    color=palette[0], \n",
    "    alpha=y1/y1.max(), # oscillate from 0 to 1 (y min to max)\n",
    "    legend='m=10 s=4', \n",
    "    size=x/1.5)\n",
    "\n",
    "bokeh.plotting.show(p)"
   ]
  },
  {
   "cell_type": "markdown",
   "metadata": {},
   "source": [
    "# Quiz"
   ]
  },
  {
   "cell_type": "markdown",
   "metadata": {},
   "source": [
    "Double click on this cell to insert your answers.\n",
    "\n",
    "### 1. Which settings, both args and kwargs, did we see for `bokeh.plotting.figure`?\n",
    "\n",
    "[Your answer here]\n",
    "\n",
    "### 2. Which settings, both args and kwargs, did we see for `diamond`?\n",
    "\n",
    "[Your answer here]\n",
    "\n",
    "### 3. In the above plots, which settings used a single value and which used a series of values?\n",
    "\n",
    "[Your answer here]\n"
   ]
  },
  {
   "cell_type": "markdown",
   "metadata": {},
   "source": [
    "### Run the following cell to see the answers"
   ]
  },
  {
   "cell_type": "code",
   "execution_count": null,
   "metadata": {
    "collapsed": true,
    "scrolled": true
   },
   "outputs": [],
   "source": [
    "solution_fname = 'solutions/01_quiz.txt'\n",
    "with open(solution_fname, 'r') as f:\n",
    "    solution = f.read()\n",
    "print(solution)"
   ]
  },
  {
   "cell_type": "markdown",
   "metadata": {},
   "source": [
    "</table><p>There are many marker types available in Bokeh, you can see details and\n",
    "example plots for all of them in the reference guide by clicking on entries in the list below:</p>\n",
    "<table class=\"hlist\" style=\"float:left\"><tr><td><ul>\n",
    "<li><a href=\"http://bokeh.pydata.org/en/latest/docs/reference/plotting.html#bokeh.plotting.Figure.asterisk\" title=\"bokeh.plotting.Figure.asterisk\"><code class=\"xref py py-func docutils literal\"><span class=\"pre\">asterisk()</span></code></a></li>\n",
    "<li><a href=\"http://bokeh.pydata.org/en/latest/docs/reference/plotting.html#bokeh.plotting.Figure.circle\" title=\"bokeh.plotting.Figure.circle\"><code class=\"xref py py-func docutils literal\"><span class=\"pre\">circle()</span></code></a></li>\n",
    "<li><a href=\"http://bokeh.pydata.org/en/latest/docs/reference/plotting.html#bokeh.plotting.Figure.circle_cross\" title=\"bokeh.plotting.Figure.circle_cross\"><code class=\"xref py py-func docutils literal\"><span class=\"pre\">circle_cross()</span></code></a></li>\n",
    "<li><a href=\"http://bokeh.pydata.org/en/latest/docs/reference/plotting.html#bokeh.plotting.Figure.circle_x\" title=\"bokeh.plotting.Figure.circle_x\"><code class=\"xref py py-func docutils literal\"><span class=\"pre\">circle_x()</span></code></a></li>\n",
    "<li><a href=\"http://bokeh.pydata.org/en/latest/docs/reference/plotting.html#bokeh.plotting.Figure.cross\" title=\"bokeh.plotting.Figure.cross\"><code class=\"xref py py-func docutils literal\"><span class=\"pre\">cross()</span></code></a></li>\n",
    "</ul>\n",
    "</td><td><ul>\n",
    "<li><a href=\"http://bokeh.pydata.org/en/latest/docs/reference/plotting.html#bokeh.plotting.Figure.diamond\" title=\"bokeh.plotting.Figure.diamond\"><code class=\"xref py py-func docutils literal\"><span class=\"pre\">diamond()</span></code></a></li>\n",
    "<li><a href=\"http://bokeh.pydata.org/en/latest/docs/reference/plotting.html#bokeh.plotting.Figure.diamond_cross\" title=\"bokeh.plotting.Figure.diamond_cross\"><code class=\"xref py py-func docutils literal\"><span class=\"pre\">diamond_cross()</span></code></a></li>\n",
    "<li><a href=\"http://bokeh.pydata.org/en/latest/docs/reference/plotting.html#bokeh.plotting.Figure.inverted_triangle\" title=\"bokeh.plotting.Figure.inverted_triangle\"><code class=\"xref py py-func docutils literal\"><span class=\"pre\">inverted_triangle()</span></code></a></li>\n",
    "<li><a href=\"http://bokeh.pydata.org/en/latest/docs/reference/plotting.html#bokeh.plotting.Figure.square\" title=\"bokeh.plotting.Figure.square\"><code class=\"xref py py-func docutils literal\"><span class=\"pre\">square()</span></code></a></li>\n",
    "</ul>\n",
    "</td><td><ul>\n",
    "<li><a href=\"http://bokeh.pydata.org/en/latest/docs/reference/plotting.html#bokeh.plotting.Figure.square_cross\" title=\"bokeh.plotting.Figure.square_cross\"><code class=\"xref py py-func docutils literal\"><span class=\"pre\">square_cross()</span></code></a></li>\n",
    "<li><a href=\"http://bokeh.pydata.org/en/latest/docs/reference/plotting.html#bokeh.plotting.Figure.square_x\" title=\"bokeh.plotting.Figure.square_x\"><code class=\"xref py py-func docutils literal\"><span class=\"pre\">square_x()</span></code></a></li>\n",
    "<li><a href=\"http://bokeh.pydata.org/en/latest/docs/reference/plotting.html#bokeh.plotting.Figure.triangle\" title=\"bokeh.plotting.Figure.triangle\"><code class=\"xref py py-func docutils literal\"><span class=\"pre\">triangle()</span></code></a></li>\n",
    "<li><a href=\"http://bokeh.pydata.org/en/latest/docs/reference/plotting.html#bokeh.plotting.Figure.x\" title=\"bokeh.plotting.Figure.x\"><code class=\"xref py py-func docutils literal\"><span class=\"pre\">x()</span></code></a></li>\n",
    "</ul>\n",
    "</td></tr></table>"
   ]
  },
  {
   "cell_type": "markdown",
   "metadata": {},
   "source": [
    "Also, there is a similar command to draw a `line()`, with the added kwarg: `line_width`."
   ]
  },
  {
   "cell_type": "markdown",
   "metadata": {},
   "source": [
    "# Exercise\n",
    "Plot all three data sets, `y1`, `y2`, and `y3`, each as a function of the `x` array.  For each data set, use a different entry for each of the following:\n",
    "- `color` (or `line_color` and `fill_color` separately)\n",
    "- `alpha` (or `line_alpha` and `fill_alpha` separately)\n",
    "- `legend`\n",
    "\n",
    "Also, try using the `line()` option for one of the data sets and two different marker types for the other two data sets (e.g. `diamond()`, `asterisk()`, `circle()`, etc).\n",
    "\n",
    "Try using a mix of single values and series of values."
   ]
  },
  {
   "cell_type": "code",
   "execution_count": null,
   "metadata": {
    "collapsed": true
   },
   "outputs": [],
   "source": [
    "# [enter your code here]"
   ]
  },
  {
   "cell_type": "markdown",
   "metadata": {},
   "source": [
    "Run the following cell to see one possible solution."
   ]
  },
  {
   "cell_type": "code",
   "execution_count": null,
   "metadata": {
    "collapsed": true
   },
   "outputs": [],
   "source": [
    "%load solutions/01_exercise.py"
   ]
  },
  {
   "cell_type": "markdown",
   "metadata": {
    "collapsed": true
   },
   "source": [
    "# Read the [Docs](http://bokeh.pydata.org)\n",
    "  - [Plotting with Basic Glyphs](http://bokeh.pydata.org/en/latest/docs/user_guide/plotting.html)\n",
    "  - [Styling Visual Attributes](http://bokeh.pydata.org/en/latest/docs/user_guide/styling.html)"
   ]
  },
  {
   "cell_type": "markdown",
   "metadata": {
    "collapsed": true
   },
   "source": [
    "---\n",
    "Proceed to [02-plotting.ipynb](02-plotting.ipynb)  \n",
    "Return to [00-introduction.ipynb](00-introduction.ipynb)  \n",
    "\n",
    "\n",
    "---\n",
    "## Index\n",
    "1. [Basic Plotting](01-plotting.ipynb)\n",
    "2. [Streaming Data](02-streaming.ipynb)\n",
    "3. [Datashader](03-datashader.ipynb) \n",
    "4. [Bokeh Server](04-server.ipynb)"
   ]
  }
 ],
 "metadata": {
  "anaconda-cloud": {},
  "kernelspec": {
   "display_name": "Python [default]",
   "language": "python",
   "name": "python3"
  },
  "language_info": {
   "codemirror_mode": {
    "name": "ipython",
    "version": 3
   },
   "file_extension": ".py",
   "mimetype": "text/x-python",
   "name": "python",
   "nbconvert_exporter": "python",
   "pygments_lexer": "ipython3",
   "version": "3.5.4"
  }
 },
 "nbformat": 4,
 "nbformat_minor": 2
}
