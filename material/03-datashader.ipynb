{
 "cells": [
  {
   "cell_type": "markdown",
   "metadata": {},
   "source": [
    "Return to [00-introduction.ipynb](00-introduction.ipynb)  \n",
    "\n",
    "---"
   ]
  },
  {
   "cell_type": "code",
   "execution_count": null,
   "metadata": {
    "collapsed": true
   },
   "outputs": [],
   "source": [
    "import numpy as np"
   ]
  },
  {
   "cell_type": "code",
   "execution_count": null,
   "metadata": {
    "collapsed": true
   },
   "outputs": [],
   "source": [
    "import holoviews as hv\n",
    "import datashader as ds\n",
    "from holoviews.operation.datashader import datashade, dynspread"
   ]
  },
  {
   "cell_type": "code",
   "execution_count": null,
   "metadata": {
    "collapsed": true
   },
   "outputs": [],
   "source": [
    "hv.notebook_extension('bokeh')"
   ]
  },
  {
   "cell_type": "code",
   "execution_count": null,
   "metadata": {
    "collapsed": true
   },
   "outputs": [],
   "source": [
    "import bokeh.plotting"
   ]
  },
  {
   "cell_type": "code",
   "execution_count": null,
   "metadata": {
    "collapsed": true
   },
   "outputs": [],
   "source": [
    "bokeh.plotting.output_notebook()"
   ]
  },
  {
   "cell_type": "markdown",
   "metadata": {},
   "source": [
    "# Accurately Visualize Dense Data"
   ]
  },
  {
   "cell_type": "markdown",
   "metadata": {},
   "source": [
    "Lets create a sample dataset from several Gaussian distributions."
   ]
  },
  {
   "cell_type": "code",
   "execution_count": null,
   "metadata": {
    "collapsed": true
   },
   "outputs": [],
   "source": [
    "def gaussian_points(mu, sigma, n_points=10000):\n",
    "    assert len(mu) == len(sigma)\n",
    "    n_dist = len(sigma)\n",
    "    \n",
    "    points = np.empty((n_dist*n_points, 2))\n",
    "    for i in range(n_dist):\n",
    "        x = np.random.normal(loc=mu[i, 0], scale=sigma[i], size=n_points)\n",
    "        y = np.random.normal(loc=mu[i, 1], scale=sigma[i], size=n_points)\n",
    "        i_first = i * n_points\n",
    "        i_last = (i + 1) * n_points\n",
    "        points[i_first:i_last, :] = np.c_[x, y]\n",
    "    \n",
    "    return points"
   ]
  },
  {
   "cell_type": "markdown",
   "metadata": {},
   "source": [
    "We will look at 5 Gaussian distributions, each with 10000 points, centered at (2, 2), (2, -2), (-2, -2), (-2, 2), and (0, 0), with a standard deviation of 0.01, 0.1, 0.5, 1.0, and 3.0, respectively."
   ]
  },
  {
   "cell_type": "code",
   "execution_count": null,
   "metadata": {
    "collapsed": true
   },
   "outputs": [],
   "source": [
    "# n_points = 10000  # initial plot w/ 10k points may crash your browser\n",
    "n_points = 1000\n",
    "mu = np.array([\n",
    "    [2, 2], \n",
    "    [2, -2], \n",
    "    [-2, -2], \n",
    "    [-2, 2],\n",
    "    [0, 0]\n",
    "])\n",
    "sigma = np.array([0.05, 0.1, 0.5, 1.0, 5.0])\n",
    "\n",
    "points = gaussian_points(mu, sigma)"
   ]
  },
  {
   "cell_type": "markdown",
   "metadata": {},
   "source": [
    "## Just plot every point\n",
    "If we simply plot all the data points, it is difficult to see the structure of the data."
   ]
  },
  {
   "cell_type": "code",
   "execution_count": null,
   "metadata": {
    "collapsed": true
   },
   "outputs": [],
   "source": [
    "p = bokeh.plotting.figure()\n",
    "p.circle(\n",
    "    points[:, 0], points[:, 1],\n",
    "    # fill_alpha=0.3,\n",
    "    # line_alpha=0,    \n",
    ")\n",
    "\n",
    "bokeh.plotting.show(p)"
   ]
  },
  {
   "cell_type": "markdown",
   "metadata": {},
   "source": [
    " Lets go back and add an alpha value to hopefully better see the structure of the data."
   ]
  },
  {
   "cell_type": "markdown",
   "metadata": {},
   "source": [
    "This is a bit improved, but maybe only because you know we have 5 Gaussian distributions.  Also, perhaps the `alpha` value we chose will not generalize well.  The structure of the data is not immediately evident.\n",
    "\n",
    "To resolve this, we can use [Datashader](https://github.com/bokeh/datashader) to faithfully represent the data.  Without going into too much detail, we will use [HoloViews](http://holoviews.org) to utilize Datashader together with Bokeh.\n",
    "\n",
    "In HoloViews, you begin by specifying an \"Element\" object to contain your data, e.g., `Points` (scatterplots) or `Path` (trajectories), rather than starting out with a figure or plot.  "
   ]
  },
  {
   "cell_type": "code",
   "execution_count": null,
   "metadata": {
    "collapsed": true
   },
   "outputs": [],
   "source": [
    "hv_points = hv.Points(\n",
    "    points, label='Points', \n",
    "    kdims=['independent variable', 'dependent variable']\n",
    ")\n",
    "\n",
    "#free up space\n",
    "del points"
   ]
  },
  {
   "cell_type": "markdown",
   "metadata": {},
   "source": [
    "Even though these objects are fundamentally data containers, not visualizations, if you ask for their representation in a Jupyter notebook, a corresponding Bokeh plot will be created."
   ]
  },
  {
   "cell_type": "code",
   "execution_count": null,
   "metadata": {
    "collapsed": true
   },
   "outputs": [],
   "source": [
    "hv_points"
   ]
  },
  {
   "cell_type": "markdown",
   "metadata": {},
   "source": [
    "Now we have a HoloViews Element object.  This looks essentially the same as our first plot.  How do we use Datashader to represent this data?  \n",
    "\n",
    "## Plot the points using Datashader\n",
    "To render this element using Datashader, we want to use HoloViews' `datashade()` operation."
   ]
  },
  {
   "cell_type": "code",
   "execution_count": null,
   "metadata": {
    "collapsed": true,
    "scrolled": false
   },
   "outputs": [],
   "source": [
    "datashade(hv_points)"
   ]
  },
  {
   "cell_type": "markdown",
   "metadata": {},
   "source": [
    "# What is happending?  \n",
    "As you zoom in/out on the above image, Bokeh, Datashader, and HoloViews work together in the following process:\n",
    "- Bokeh\n",
    "  - set the x-range and y-range for the viewing window\n",
    "- Datashader\n",
    "  - render the data within that window into a screen-sized aggregate array \n",
    "  - construct an image from the aggregated data \n",
    "- HoloViews\n",
    "  - embed the image into the Bokeh plot\n",
    "\n",
    "This illustrates how Datashader processes the data into an image that can then be rendered."
   ]
  },
  {
   "cell_type": "markdown",
   "metadata": {},
   "source": [
    "<img src=\"assets/pipeline2.png\">"
   ]
  },
  {
   "cell_type": "markdown",
   "metadata": {},
   "source": [
    "# How do I customize a HoloViews image?\n",
    "In general, you would use the following syntax to customize HoloViews plots (relies on `pyparsing` package):\n",
    "```\n",
    "%%opts [<plot options here>] (<style options here) {<norm options here>}\n",
    "```\n",
    "To dig into this deeper, look at the HoloViews [Customizing Plots](http://holoviews.org/user_guide/Customizing_Plots.html) documentation.  Also, you can use `hv.help()` function to learn more about HoloViews objects."
   ]
  },
  {
   "cell_type": "code",
   "execution_count": null,
   "metadata": {
    "collapsed": true
   },
   "outputs": [],
   "source": [
    "hv.help(hv.Points)"
   ]
  },
  {
   "cell_type": "markdown",
   "metadata": {},
   "source": [
    "# Spreading\n",
    "\n",
    "The Datashader examples above treat points as infinitesimal in width, such that a given point or small bit of line segment appears in at most one pixel. This approach ensures that the overall distribution of the points will be mathematically well founded -- each pixel will scale in value directly by the number of points that fall into it, or by the lines that cross it.\n",
    "\n",
    "However, many monitors are sufficiently high resolution that the resulting point or line can be difficult to see---a single pixel may not actually be visible on its own, and the color of it is likely to be very difficult to make out.  To compensate for this issue, HoloViews provides access to Datashader's image-based \"spreading\", which makes isolated pixels \"spread\" into adjacent ones for visibility.  Because the amount of spreading that's useful depends on how close the datapoints are to each other on screen, the most useful such function is `dynspread`, which spreads up to a maximum sized as long as it does not exceed a specified fraction of adjacency between pixels.  You can compare the results in the two plots below after zooming in:"
   ]
  },
  {
   "cell_type": "code",
   "execution_count": null,
   "metadata": {
    "collapsed": true
   },
   "outputs": [],
   "source": [
    "datashade(hv_points) + dynspread(datashade(hv_points))"
   ]
  },
  {
   "cell_type": "markdown",
   "metadata": {},
   "source": [
    "# Exercise\n",
    "\n",
    "Adjust the Gaussian distributions, then regenerate the `datashade()` plot, [as shown here](#Plot-the-points-using-Datashader).  Things to try:\n",
    "\n",
    "1. increase the number of points\n",
    "2. use more/less distributions\n",
    "3. change the $\\mu$ (`mu`) and $\\sigma$ (`sigma`) values to adjust the overlap\n",
    "\n",
    "Note that if you try to simply plot too many points, [using either Bokeh or HoloViews](#Just-plot-every-point), it may crash your browser (it's good to get a feel for this limit but be careful). "
   ]
  },
  {
   "cell_type": "code",
   "execution_count": null,
   "metadata": {
    "collapsed": true
   },
   "outputs": [],
   "source": [
    "# # code frome above\n",
    "# mu = np.array([\n",
    "#     [2, 2], \n",
    "#     [2, -2], \n",
    "#     [-2, -2], \n",
    "#     [-2, 2],\n",
    "#     [0, 0],\n",
    "# ])\n",
    "# sigma = np.array([0.01, 0.1, 0.5, 1.0, 3.0])\n",
    "#\n",
    "# points = gaussian_points(mu, sigma)\n",
    "\n",
    "# [enter your code here]\n",
    "\n",
    "\n"
   ]
  },
  {
   "cell_type": "markdown",
   "metadata": {},
   "source": [
    "Run the following cell to see one possible solution."
   ]
  },
  {
   "cell_type": "code",
   "execution_count": null,
   "metadata": {
    "collapsed": true
   },
   "outputs": [],
   "source": [
    "%load solutions/03_exercise.py"
   ]
  },
  {
   "cell_type": "code",
   "execution_count": null,
   "metadata": {
    "collapsed": true
   },
   "outputs": [],
   "source": []
  }
 ],
 "metadata": {
  "kernelspec": {
   "display_name": "Python [default]",
   "language": "python",
   "name": "python3"
  },
  "language_info": {
   "codemirror_mode": {
    "name": "ipython",
    "version": 3
   },
   "file_extension": ".py",
   "mimetype": "text/x-python",
   "name": "python",
   "nbconvert_exporter": "python",
   "pygments_lexer": "ipython3",
   "version": "3.5.4"
  }
 },
 "nbformat": 4,
 "nbformat_minor": 2
}
